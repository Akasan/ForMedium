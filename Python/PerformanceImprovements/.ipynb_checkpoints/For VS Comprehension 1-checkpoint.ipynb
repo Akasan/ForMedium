{
 "cells": [
  {
   "cell_type": "markdown",
   "id": "d18d6f7a",
   "metadata": {},
   "source": [
    "# For VS Comprehension 1\n",
    "## Experiment summary\n",
    "This notebook conduct experiment of how much differnces there are between for statement and comprehension when wa want to make list."
   ]
  },
  {
   "cell_type": "code",
   "execution_count": 2,
   "id": "55a3599b",
   "metadata": {},
   "outputs": [],
   "source": [
    "# import libraries\n",
    "import time\n",
    "import matplotlib.pyplot as plt\n",
    "from tqdm import tqdm"
   ]
  },
  {
   "cell_type": "code",
   "execution_count": 3,
   "id": "468844db",
   "metadata": {},
   "outputs": [],
   "source": [
    "# define function which make list using for statement\n",
    "def make_list_with_for_v1(item_num: int):\n",
    "    result = []\n",
    "    for i in range(item_num):\n",
    "        result.append(i)"
   ]
  },
  {
   "cell_type": "code",
   "execution_count": 4,
   "id": "83362533",
   "metadata": {},
   "outputs": [],
   "source": [
    "# define function which make list using for statement\n",
    "# This function will prepare append function before for statement\n",
    "def make_list_with_for_v2(item_num: int):\n",
    "    result = []\n",
    "    append = result.append\n",
    "    for i in range(item_num):\n",
    "        append(i)"
   ]
  },
  {
   "cell_type": "code",
   "execution_count": 5,
   "id": "7b2bb85f",
   "metadata": {},
   "outputs": [],
   "source": [
    "# define function wich make list using comprehension\n",
    "def make_list_with_comprehension(item_num: int):\n",
    "    result = [i for i in range(item_num)]"
   ]
  },
  {
   "cell_type": "markdown",
   "id": "12378def",
   "metadata": {},
   "source": [
    "## Compare performances between three functions defined above\n",
    "\n",
    "The experiment condition is like below.\n",
    "1. `item_num` is range from 10 to 1M in 10x increments.\n",
    "2. Experiment 10 times for each function under the same conditions, and use the average time as the result.\n",
    "3. Use time.time function to calculate elapsed time. You can use like `%%time` to calculate elapsed time easier, but don't use here."
   ]
  },
  {
   "cell_type": "code",
   "execution_count": 18,
   "id": "93ddb1f0",
   "metadata": {},
   "outputs": [],
   "source": [
    "ITEM_NUMS = [10**i for i in range(1, 7)]\n",
    "EXPERIMENT_ITERATION = 10"
   ]
  },
  {
   "cell_type": "code",
   "execution_count": 16,
   "id": "8458eba2",
   "metadata": {},
   "outputs": [
    {
     "name": "stderr",
     "output_type": "stream",
     "text": [
      "100%|█████████████████████████████████████████████████████████████████████████████████████████████████████████████████████████████████████████████████████████████████████████████████████████████████████████████████████████████████████████████████████████████████████████████████████████████████████████████████████████████████████████| 6/6 [00:02<00:00,  2.27it/s]\n"
     ]
    }
   ],
   "source": [
    "for_v1_elasped_times = []\n",
    "for_v2_elasped_times = []\n",
    "comprehension_elapsed_times = []\n",
    "\n",
    "for item_num in tqdm(ITEM_NUMS):\n",
    "    for_v1_elapsed_time = 0\n",
    "    for_v2_elapsed_time = 0\n",
    "    comprehension_v1_elapsed_time = 0\n",
    "    \n",
    "    for iteration in range(EXPERIMENT_ITERATION):\n",
    "        # Experiment of make_list_with_for_v1\n",
    "        st_for_v1 = time.time()\n",
    "        make_list_with_for_v1(item_num)\n",
    "        for_v1_elapsed_time += time.time() - st_for_v1\n",
    "        \n",
    "        # Experiment of make_list_with_for_v1\n",
    "        st_for_v2 = time.time()\n",
    "        make_list_with_for_v2(item_num)\n",
    "        for_v2_elapsed_time += time.time() - st_for_v2\n",
    "        \n",
    "        # Experiment of make_list_with_comprehension\n",
    "        st_comprehension = time.time()\n",
    "        make_list_with_comprehension(item_num)\n",
    "        comprehension_v1_elapsed_time += time.time() - st_comprehension\n",
    "    \n",
    "    for_v1_elapsed_time /= EXPERIMENT_ITERATION\n",
    "    for_v2_elapsed_time /= EXPERIMENT_ITERATION\n",
    "    comprehension_v1_elapsed_time /= EXPERIMENT_ITERATION\n",
    "    \n",
    "    for_v1_elasped_times.append(for_v1_elapsed_time)\n",
    "    for_v2_elasped_times.append(for_v2_elapsed_time)\n",
    "    comprehension_elapsed_times.append(comprehension_v1_elapsed_time)"
   ]
  },
  {
   "cell_type": "markdown",
   "id": "c877af74",
   "metadata": {},
   "source": [
    "## Plot experiment results"
   ]
  },
  {
   "cell_type": "code",
   "execution_count": 19,
   "id": "c0d25cbc",
   "metadata": {},
   "outputs": [
    {
     "data": {
      "image/png": "[encoded data removed]",
      "text/plain": [
       "<Figure size 432x288 with 1 Axes>"
      ]
     },
     "metadata": {
      "needs_background": "light"
     },
     "output_type": "display_data"
    }
   ],
   "source": [
    "plt.plot(ITEM_NUMS, for_v1_elasped_times, label=\"for v1\", color=\"r\")\n",
    "plt.plot(ITEM_NUMS, for_v2_elasped_times, label=\"for v2\", color=\"b\")\n",
    "plt.plot(ITEM_NUMS, comprehension_elapsed_times, label=\"comprehension\", color=\"g\")\n",
    "plt.xlabel(\"the number of items in the result list\")\n",
    "plt.xscale(\"log\")\n",
    "plt.ylabel(\"Elapsed time [s]\")\n",
    "plt.legend()\n",
    "plt.show()"
   ]
  },
  {
   "cell_type": "code",
   "execution_count": null,
   "id": "06cd3f17",
   "metadata": {},
   "outputs": [],
   "source": []
  }
 ],
 "metadata": {
  "kernelspec": {
   "display_name": "Python 3 (ipykernel)",
   "language": "python",
   "name": "python3"
  },
  "language_info": {
   "codemirror_mode": {
    "name": "ipython",
    "version": 3
   },
   "file_extension": ".py",
   "mimetype": "text/x-python",
   "name": "python",
   "nbconvert_exporter": "python",
   "pygments_lexer": "ipython3",
   "version": "3.9.12"
  }
 },
 "nbformat": 4,
 "nbformat_minor": 5
}
